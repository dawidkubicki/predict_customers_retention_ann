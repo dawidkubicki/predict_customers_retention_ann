{
  "nbformat": 4,
  "nbformat_minor": 0,
  "metadata": {
    "colab": {
      "name": "artificial_neural_network.ipynb",
      "provenance": [],
      "collapsed_sections": [],
      "toc_visible": true,
      "include_colab_link": true
    },
    "kernelspec": {
      "name": "python3",
      "display_name": "Python 3"
    }
  },
  "cells": [
    {
      "cell_type": "markdown",
      "metadata": {
        "id": "view-in-github",
        "colab_type": "text"
      },
      "source": [
        "<a href=\"https://colab.research.google.com/github/dawidkubicki/predict_customers_retention_ann/blob/main/artificial_neural_network.ipynb\" target=\"_parent\"><img src=\"https://colab.research.google.com/assets/colab-badge.svg\" alt=\"Open In Colab\"/></a>"
      ]
    },
    {
      "cell_type": "markdown",
      "metadata": {
        "id": "lP6JLo1tGNBg"
      },
      "source": [
        "# Artificial Neural Network"
      ]
    },
    {
      "cell_type": "markdown",
      "metadata": {
        "id": "gWZyYmS_UE_L"
      },
      "source": [
        "### Importing the libraries"
      ]
    },
    {
      "cell_type": "code",
      "metadata": {
        "id": "nNKGimBt8h_j"
      },
      "source": [
        "import numpy as np\n",
        "import pandas as pd\n",
        "import tensorflow as tf"
      ],
      "execution_count": 12,
      "outputs": []
    },
    {
      "cell_type": "code",
      "metadata": {
        "id": "MC1jIa-98iwm"
      },
      "source": [
        "# from google.colab import drive\n",
        "# drive.mount('/content/drive')"
      ],
      "execution_count": 13,
      "outputs": []
    },
    {
      "cell_type": "code",
      "metadata": {
        "id": "oT6CRSYl8kQp",
        "colab": {
          "base_uri": "https://localhost:8080/"
        },
        "outputId": "6c4f616b-a7a0-48df-f9c8-d0175b33b679"
      },
      "source": [
        "#root_path = '/content/gdrive/My Drive/Colab Notebooks/my_files_dp_az/ann/'\n",
        "\n",
        "import os \n",
        "\n",
        "# Set your working directory to a folder in your Google Drive. This way, if your notebook times out,\n",
        "# your files will be saved in your Google Drive!\n",
        "\n",
        "# the base Google Drive directory\n",
        "root_dir = \"/content/drive/My Drive/\"\n",
        "\n",
        "# choose where you want your project files to be saved\n",
        "project_folder = \"Colab Notebooks/my_files_dp_az/ann/\"\n",
        "\n",
        "def create_and_set_working_directory(project_folder):\n",
        "  # check if your project folder exists. if not, it will be created.\n",
        "  if os.path.isdir(root_dir + project_folder) == False:\n",
        "    os.mkdir(root_dir + project_folder)\n",
        "    print(root_dir + project_folder + ' did not exist but was created.')\n",
        "\n",
        "  # change the OS to use your project folder as the working directory\n",
        "  os.chdir(root_dir + project_folder)\n",
        "\n",
        "  # create a test file to make sure it shows up in the right place\n",
        "  !touch 'WORKING_DIRECTORY_JUST_TO_TEST_FILE.txt'\n",
        "  print('\\nYour working directory was changed to ' + root_dir + project_folder + \\\n",
        "        \"\\n\\nAn empty text file was created there. You can also run !pwd to confirm the current working directory.\" )\n",
        "\n",
        "create_and_set_working_directory(project_folder)"
      ],
      "execution_count": 14,
      "outputs": [
        {
          "output_type": "stream",
          "text": [
            "\n",
            "Your working directory was changed to /content/drive/My Drive/Colab Notebooks/my_files_dp_az/ann/\n",
            "\n",
            "An empty text file was created there. You can also run !pwd to confirm the current working directory.\n"
          ],
          "name": "stdout"
        }
      ]
    },
    {
      "cell_type": "code",
      "metadata": {
        "id": "6Ci0YQiO8pmQ",
        "colab": {
          "base_uri": "https://localhost:8080/",
          "height": 35
        },
        "outputId": "f9cae91e-6836-43cf-f16b-df2421f46393"
      },
      "source": [
        "tf.__version__"
      ],
      "execution_count": 15,
      "outputs": [
        {
          "output_type": "execute_result",
          "data": {
            "application/vnd.google.colaboratory.intrinsic+json": {
              "type": "string"
            },
            "text/plain": [
              "'2.3.0'"
            ]
          },
          "metadata": {
            "tags": []
          },
          "execution_count": 15
        }
      ]
    },
    {
      "cell_type": "markdown",
      "metadata": {
        "id": "1E0Q3aoKUCRX"
      },
      "source": [
        "## Part 1 - Data Preprocessing"
      ]
    },
    {
      "cell_type": "markdown",
      "metadata": {
        "id": "cKWAkFVGUU0Z"
      },
      "source": [
        "### Importing the dataset"
      ]
    },
    {
      "cell_type": "code",
      "metadata": {
        "id": "gyUeVkcr8r8D"
      },
      "source": [
        "dataset = pd.read_csv('Churn_Modelling.csv')\n",
        "#let's take all the columns without the last column and first 3 of them\n",
        "X = dataset.iloc[:, 3:-1].values\n",
        "y = dataset.iloc[:, -1].values\n",
        "#print(x)\n",
        "#print(y)"
      ],
      "execution_count": 16,
      "outputs": []
    },
    {
      "cell_type": "markdown",
      "metadata": {
        "id": "N6bQ0UgSU-NJ"
      },
      "source": [
        "### Encoding categorical data"
      ]
    },
    {
      "cell_type": "markdown",
      "metadata": {
        "id": "le5MJreAbW52"
      },
      "source": [
        "Label Encoding the \"Gender\" column"
      ]
    },
    {
      "cell_type": "code",
      "metadata": {
        "id": "h3eQWMHe_ZNe"
      },
      "source": [
        "from sklearn.preprocessing import LabelEncoder\n",
        "le = LabelEncoder()\n",
        "X[:, 2] = le.fit_transform(X[:, 2])\n",
        "#print(X)"
      ],
      "execution_count": 17,
      "outputs": []
    },
    {
      "cell_type": "markdown",
      "metadata": {
        "id": "CUxGZezpbMcb"
      },
      "source": [
        "One Hot Encoding the \"Geography\" column"
      ]
    },
    {
      "cell_type": "code",
      "metadata": {
        "id": "-s6jhLXYAtSm",
        "colab": {
          "base_uri": "https://localhost:8080/"
        },
        "outputId": "33b268fb-290d-443f-e74c-e58b55d62ebd"
      },
      "source": [
        "from sklearn.compose import ColumnTransformer\n",
        "from sklearn.preprocessing import OneHotEncoder\n",
        "ct = ColumnTransformer(transformers=[('encoder', OneHotEncoder(), [1])], remainder='passthrough')\n",
        "X = np.array(ct.fit_transform(X))\n",
        "print(X)"
      ],
      "execution_count": 18,
      "outputs": [
        {
          "output_type": "stream",
          "text": [
            "[[1.0 0.0 0.0 ... 1 1 101348.88]\n",
            " [0.0 0.0 1.0 ... 0 1 112542.58]\n",
            " [1.0 0.0 0.0 ... 1 0 113931.57]\n",
            " ...\n",
            " [1.0 0.0 0.0 ... 0 1 42085.58]\n",
            " [0.0 1.0 0.0 ... 1 0 92888.52]\n",
            " [1.0 0.0 0.0 ... 1 0 38190.78]]\n"
          ],
          "name": "stdout"
        }
      ]
    },
    {
      "cell_type": "markdown",
      "metadata": {
        "id": "vHol938cW8zd"
      },
      "source": [
        "### Splitting the dataset into the Training set and Test set"
      ]
    },
    {
      "cell_type": "code",
      "metadata": {
        "id": "EUpYpbHRBxBX"
      },
      "source": [
        "from sklearn.model_selection import train_test_split\n",
        "X_train, X_test, y_train, y_test = train_test_split(X, y, test_size = 0.2, random_state = 0)"
      ],
      "execution_count": 19,
      "outputs": []
    },
    {
      "cell_type": "markdown",
      "metadata": {
        "id": "RE_FcHyfV3TQ"
      },
      "source": [
        "### Feature Scaling"
      ]
    },
    {
      "cell_type": "code",
      "metadata": {
        "id": "SeqD-6IbCotX"
      },
      "source": [
        "from sklearn.preprocessing import StandardScaler\n",
        "sc = StandardScaler()\n",
        "X_train = sc.fit_transform(X_train)\n",
        "X_test = sc.transform(X_test)"
      ],
      "execution_count": 20,
      "outputs": []
    },
    {
      "cell_type": "markdown",
      "metadata": {
        "id": "-zfEzkRVXIwF"
      },
      "source": [
        "## Part 2 - Building the ANN"
      ]
    },
    {
      "cell_type": "markdown",
      "metadata": {
        "id": "KvdeScabXtlB"
      },
      "source": [
        "### Initializing the ANN"
      ]
    },
    {
      "cell_type": "code",
      "metadata": {
        "id": "zjCVaDpYEBA7"
      },
      "source": [
        "ann = tf.keras.models.Sequential()"
      ],
      "execution_count": 21,
      "outputs": []
    },
    {
      "cell_type": "markdown",
      "metadata": {
        "id": "rP6urV6SX7kS"
      },
      "source": [
        "### Adding the input layer and the first hidden layer"
      ]
    },
    {
      "cell_type": "code",
      "metadata": {
        "id": "Is5dqwiyElR8"
      },
      "source": [
        "ann.add(tf.keras.layers.Dense(units=6, activation='relu', use_bias=True))"
      ],
      "execution_count": 22,
      "outputs": []
    },
    {
      "cell_type": "markdown",
      "metadata": {
        "id": "BELWAc_8YJze"
      },
      "source": [
        "### Adding the second hidden layer"
      ]
    },
    {
      "cell_type": "code",
      "metadata": {
        "id": "mPxxX76qF2pg"
      },
      "source": [
        "ann.add(tf.keras.layers.Dense(units=6, activation='relu', use_bias=True))"
      ],
      "execution_count": 23,
      "outputs": []
    },
    {
      "cell_type": "markdown",
      "metadata": {
        "id": "OyNEe6RXYcU4"
      },
      "source": [
        "### Adding the output layer"
      ]
    },
    {
      "cell_type": "code",
      "metadata": {
        "id": "ovf7kYSmGDMi"
      },
      "source": [
        "ann.add(tf.keras.layers.Dense(units=1, activation='sigmoid'))"
      ],
      "execution_count": 24,
      "outputs": []
    },
    {
      "cell_type": "markdown",
      "metadata": {
        "id": "JT4u2S1_Y4WG"
      },
      "source": [
        "## Part 3 - Training the ANN"
      ]
    },
    {
      "cell_type": "markdown",
      "metadata": {
        "id": "8GWlJChhY_ZI"
      },
      "source": [
        "### Compiling the ANN"
      ]
    },
    {
      "cell_type": "code",
      "metadata": {
        "id": "MiKG3cF9HSpN"
      },
      "source": [
        "ann.compile(optimizer = 'adam', loss = 'binary_crossentropy', metrics = ['accuracy'])"
      ],
      "execution_count": 26,
      "outputs": []
    },
    {
      "cell_type": "markdown",
      "metadata": {
        "id": "0QR_G5u7ZLSM"
      },
      "source": [
        "### Training the ANN on the Training set"
      ]
    },
    {
      "cell_type": "code",
      "metadata": {
        "id": "6NzhVb1HIJwn",
        "colab": {
          "base_uri": "https://localhost:8080/"
        },
        "outputId": "ee4d077d-ecd1-4696-deeb-a021144ae2c4"
      },
      "source": [
        "ann.fit(X_train, y_train, batch_size = 32, epochs = 100)"
      ],
      "execution_count": 27,
      "outputs": [
        {
          "output_type": "stream",
          "text": [
            "Epoch 1/100\n",
            "250/250 [==============================] - 0s 964us/step - loss: 0.6358 - accuracy: 0.6596\n",
            "Epoch 2/100\n",
            "250/250 [==============================] - 0s 951us/step - loss: 0.4872 - accuracy: 0.7960\n",
            "Epoch 3/100\n",
            "250/250 [==============================] - 0s 952us/step - loss: 0.4520 - accuracy: 0.7965\n",
            "Epoch 4/100\n",
            "250/250 [==============================] - 0s 913us/step - loss: 0.4398 - accuracy: 0.7983\n",
            "Epoch 5/100\n",
            "250/250 [==============================] - 0s 962us/step - loss: 0.4317 - accuracy: 0.8043\n",
            "Epoch 6/100\n",
            "250/250 [==============================] - 0s 983us/step - loss: 0.4248 - accuracy: 0.8134\n",
            "Epoch 7/100\n",
            "250/250 [==============================] - 0s 969us/step - loss: 0.4190 - accuracy: 0.8185\n",
            "Epoch 8/100\n",
            "250/250 [==============================] - 0s 905us/step - loss: 0.4139 - accuracy: 0.8225\n",
            "Epoch 9/100\n",
            "250/250 [==============================] - 0s 912us/step - loss: 0.4094 - accuracy: 0.8231\n",
            "Epoch 10/100\n",
            "250/250 [==============================] - 0s 949us/step - loss: 0.4049 - accuracy: 0.8240\n",
            "Epoch 11/100\n",
            "250/250 [==============================] - 0s 916us/step - loss: 0.4013 - accuracy: 0.8266\n",
            "Epoch 12/100\n",
            "250/250 [==============================] - 0s 894us/step - loss: 0.3979 - accuracy: 0.8260\n",
            "Epoch 13/100\n",
            "250/250 [==============================] - 0s 902us/step - loss: 0.3943 - accuracy: 0.8274\n",
            "Epoch 14/100\n",
            "250/250 [==============================] - 0s 943us/step - loss: 0.3900 - accuracy: 0.8295\n",
            "Epoch 15/100\n",
            "250/250 [==============================] - 0s 957us/step - loss: 0.3859 - accuracy: 0.8299\n",
            "Epoch 16/100\n",
            "250/250 [==============================] - 0s 920us/step - loss: 0.3828 - accuracy: 0.8295\n",
            "Epoch 17/100\n",
            "250/250 [==============================] - 0s 923us/step - loss: 0.3792 - accuracy: 0.8339\n",
            "Epoch 18/100\n",
            "250/250 [==============================] - 0s 980us/step - loss: 0.3759 - accuracy: 0.8422\n",
            "Epoch 19/100\n",
            "250/250 [==============================] - 0s 999us/step - loss: 0.3732 - accuracy: 0.8424\n",
            "Epoch 20/100\n",
            "250/250 [==============================] - 0s 1ms/step - loss: 0.3706 - accuracy: 0.8453\n",
            "Epoch 21/100\n",
            "250/250 [==============================] - 0s 928us/step - loss: 0.3682 - accuracy: 0.8468\n",
            "Epoch 22/100\n",
            "250/250 [==============================] - 0s 959us/step - loss: 0.3661 - accuracy: 0.8490\n",
            "Epoch 23/100\n",
            "250/250 [==============================] - 0s 973us/step - loss: 0.3642 - accuracy: 0.8486\n",
            "Epoch 24/100\n",
            "250/250 [==============================] - 0s 977us/step - loss: 0.3624 - accuracy: 0.8525\n",
            "Epoch 25/100\n",
            "250/250 [==============================] - 0s 928us/step - loss: 0.3615 - accuracy: 0.8491\n",
            "Epoch 26/100\n",
            "250/250 [==============================] - 0s 900us/step - loss: 0.3605 - accuracy: 0.8528\n",
            "Epoch 27/100\n",
            "250/250 [==============================] - 0s 1ms/step - loss: 0.3593 - accuracy: 0.8511\n",
            "Epoch 28/100\n",
            "250/250 [==============================] - 0s 937us/step - loss: 0.3578 - accuracy: 0.8528\n",
            "Epoch 29/100\n",
            "250/250 [==============================] - 0s 907us/step - loss: 0.3566 - accuracy: 0.8505\n",
            "Epoch 30/100\n",
            "250/250 [==============================] - 0s 937us/step - loss: 0.3562 - accuracy: 0.8531\n",
            "Epoch 31/100\n",
            "250/250 [==============================] - 0s 1ms/step - loss: 0.3548 - accuracy: 0.8546\n",
            "Epoch 32/100\n",
            "250/250 [==============================] - 0s 929us/step - loss: 0.3536 - accuracy: 0.8546\n",
            "Epoch 33/100\n",
            "250/250 [==============================] - 0s 968us/step - loss: 0.3527 - accuracy: 0.8531\n",
            "Epoch 34/100\n",
            "250/250 [==============================] - 0s 937us/step - loss: 0.3510 - accuracy: 0.8526\n",
            "Epoch 35/100\n",
            "250/250 [==============================] - 0s 943us/step - loss: 0.3505 - accuracy: 0.8550\n",
            "Epoch 36/100\n",
            "250/250 [==============================] - 0s 943us/step - loss: 0.3495 - accuracy: 0.8526\n",
            "Epoch 37/100\n",
            "250/250 [==============================] - 0s 1ms/step - loss: 0.3487 - accuracy: 0.8554\n",
            "Epoch 38/100\n",
            "250/250 [==============================] - 0s 954us/step - loss: 0.3479 - accuracy: 0.8571\n",
            "Epoch 39/100\n",
            "250/250 [==============================] - 0s 964us/step - loss: 0.3472 - accuracy: 0.8561\n",
            "Epoch 40/100\n",
            "250/250 [==============================] - 0s 923us/step - loss: 0.3464 - accuracy: 0.8549\n",
            "Epoch 41/100\n",
            "250/250 [==============================] - 0s 934us/step - loss: 0.3452 - accuracy: 0.8559\n",
            "Epoch 42/100\n",
            "250/250 [==============================] - 0s 974us/step - loss: 0.3452 - accuracy: 0.8566\n",
            "Epoch 43/100\n",
            "250/250 [==============================] - 0s 931us/step - loss: 0.3442 - accuracy: 0.8572\n",
            "Epoch 44/100\n",
            "250/250 [==============================] - 0s 943us/step - loss: 0.3432 - accuracy: 0.8581\n",
            "Epoch 45/100\n",
            "250/250 [==============================] - 0s 938us/step - loss: 0.3436 - accuracy: 0.8608\n",
            "Epoch 46/100\n",
            "250/250 [==============================] - 0s 939us/step - loss: 0.3428 - accuracy: 0.8585\n",
            "Epoch 47/100\n",
            "250/250 [==============================] - 0s 912us/step - loss: 0.3424 - accuracy: 0.8584\n",
            "Epoch 48/100\n",
            "250/250 [==============================] - 0s 941us/step - loss: 0.3422 - accuracy: 0.8585\n",
            "Epoch 49/100\n",
            "250/250 [==============================] - 0s 925us/step - loss: 0.3419 - accuracy: 0.8620\n",
            "Epoch 50/100\n",
            "250/250 [==============================] - 0s 916us/step - loss: 0.3415 - accuracy: 0.8600\n",
            "Epoch 51/100\n",
            "250/250 [==============================] - 0s 936us/step - loss: 0.3412 - accuracy: 0.8615\n",
            "Epoch 52/100\n",
            "250/250 [==============================] - 0s 966us/step - loss: 0.3410 - accuracy: 0.8595\n",
            "Epoch 53/100\n",
            "250/250 [==============================] - 0s 959us/step - loss: 0.3406 - accuracy: 0.8610\n",
            "Epoch 54/100\n",
            "250/250 [==============================] - 0s 923us/step - loss: 0.3412 - accuracy: 0.8604\n",
            "Epoch 55/100\n",
            "250/250 [==============================] - 0s 909us/step - loss: 0.3405 - accuracy: 0.8608\n",
            "Epoch 56/100\n",
            "250/250 [==============================] - 0s 920us/step - loss: 0.3399 - accuracy: 0.8594\n",
            "Epoch 57/100\n",
            "250/250 [==============================] - 0s 921us/step - loss: 0.3395 - accuracy: 0.8606\n",
            "Epoch 58/100\n",
            "250/250 [==============================] - 0s 967us/step - loss: 0.3394 - accuracy: 0.8615\n",
            "Epoch 59/100\n",
            "250/250 [==============================] - 0s 989us/step - loss: 0.3393 - accuracy: 0.8612\n",
            "Epoch 60/100\n",
            "250/250 [==============================] - 0s 971us/step - loss: 0.3395 - accuracy: 0.8602\n",
            "Epoch 61/100\n",
            "250/250 [==============================] - 0s 946us/step - loss: 0.3388 - accuracy: 0.8604\n",
            "Epoch 62/100\n",
            "250/250 [==============================] - 0s 986us/step - loss: 0.3393 - accuracy: 0.8609\n",
            "Epoch 63/100\n",
            "250/250 [==============================] - 0s 925us/step - loss: 0.3381 - accuracy: 0.8636\n",
            "Epoch 64/100\n",
            "250/250 [==============================] - 0s 1ms/step - loss: 0.3382 - accuracy: 0.8604\n",
            "Epoch 65/100\n",
            "250/250 [==============================] - 0s 952us/step - loss: 0.3385 - accuracy: 0.8615\n",
            "Epoch 66/100\n",
            "250/250 [==============================] - 0s 992us/step - loss: 0.3384 - accuracy: 0.8631\n",
            "Epoch 67/100\n",
            "250/250 [==============================] - 0s 953us/step - loss: 0.3380 - accuracy: 0.8616\n",
            "Epoch 68/100\n",
            "250/250 [==============================] - 0s 976us/step - loss: 0.3378 - accuracy: 0.8618\n",
            "Epoch 69/100\n",
            "250/250 [==============================] - 0s 932us/step - loss: 0.3378 - accuracy: 0.8629\n",
            "Epoch 70/100\n",
            "250/250 [==============================] - 0s 942us/step - loss: 0.3380 - accuracy: 0.8609\n",
            "Epoch 71/100\n",
            "250/250 [==============================] - 0s 885us/step - loss: 0.3379 - accuracy: 0.8621\n",
            "Epoch 72/100\n",
            "250/250 [==============================] - 0s 906us/step - loss: 0.3375 - accuracy: 0.8621\n",
            "Epoch 73/100\n",
            "250/250 [==============================] - 0s 1ms/step - loss: 0.3377 - accuracy: 0.8602\n",
            "Epoch 74/100\n",
            "250/250 [==============================] - 0s 1ms/step - loss: 0.3374 - accuracy: 0.8635\n",
            "Epoch 75/100\n",
            "250/250 [==============================] - 0s 960us/step - loss: 0.3374 - accuracy: 0.8640\n",
            "Epoch 76/100\n",
            "250/250 [==============================] - 0s 958us/step - loss: 0.3375 - accuracy: 0.8629\n",
            "Epoch 77/100\n",
            "250/250 [==============================] - 0s 1ms/step - loss: 0.3378 - accuracy: 0.8634\n",
            "Epoch 78/100\n",
            "250/250 [==============================] - 0s 960us/step - loss: 0.3373 - accuracy: 0.8618\n",
            "Epoch 79/100\n",
            "250/250 [==============================] - 0s 986us/step - loss: 0.3368 - accuracy: 0.8635\n",
            "Epoch 80/100\n",
            "250/250 [==============================] - 0s 985us/step - loss: 0.3367 - accuracy: 0.8630\n",
            "Epoch 81/100\n",
            "250/250 [==============================] - 0s 966us/step - loss: 0.3369 - accuracy: 0.8637\n",
            "Epoch 82/100\n",
            "250/250 [==============================] - 0s 974us/step - loss: 0.3374 - accuracy: 0.8615\n",
            "Epoch 83/100\n",
            "250/250 [==============================] - 0s 983us/step - loss: 0.3367 - accuracy: 0.8614\n",
            "Epoch 84/100\n",
            "250/250 [==============================] - 0s 1ms/step - loss: 0.3368 - accuracy: 0.8608\n",
            "Epoch 85/100\n",
            "250/250 [==============================] - 0s 967us/step - loss: 0.3369 - accuracy: 0.8608\n",
            "Epoch 86/100\n",
            "250/250 [==============================] - 0s 947us/step - loss: 0.3365 - accuracy: 0.8629\n",
            "Epoch 87/100\n",
            "250/250 [==============================] - 0s 1ms/step - loss: 0.3363 - accuracy: 0.8630\n",
            "Epoch 88/100\n",
            "250/250 [==============================] - 0s 916us/step - loss: 0.3364 - accuracy: 0.8601\n",
            "Epoch 89/100\n",
            "250/250 [==============================] - 0s 1ms/step - loss: 0.3361 - accuracy: 0.8633\n",
            "Epoch 90/100\n",
            "250/250 [==============================] - 0s 955us/step - loss: 0.3364 - accuracy: 0.8624\n",
            "Epoch 91/100\n",
            "250/250 [==============================] - 0s 912us/step - loss: 0.3361 - accuracy: 0.8622\n",
            "Epoch 92/100\n",
            "250/250 [==============================] - 0s 925us/step - loss: 0.3362 - accuracy: 0.8631\n",
            "Epoch 93/100\n",
            "250/250 [==============================] - 0s 971us/step - loss: 0.3358 - accuracy: 0.8611\n",
            "Epoch 94/100\n",
            "250/250 [==============================] - 0s 978us/step - loss: 0.3359 - accuracy: 0.8610\n",
            "Epoch 95/100\n",
            "250/250 [==============================] - 0s 936us/step - loss: 0.3356 - accuracy: 0.8633\n",
            "Epoch 96/100\n",
            "250/250 [==============================] - 0s 987us/step - loss: 0.3355 - accuracy: 0.8625\n",
            "Epoch 97/100\n",
            "250/250 [==============================] - 0s 974us/step - loss: 0.3358 - accuracy: 0.8624\n",
            "Epoch 98/100\n",
            "250/250 [==============================] - 0s 1ms/step - loss: 0.3353 - accuracy: 0.8626\n",
            "Epoch 99/100\n",
            "250/250 [==============================] - 0s 990us/step - loss: 0.3354 - accuracy: 0.8625\n",
            "Epoch 100/100\n",
            "250/250 [==============================] - 0s 993us/step - loss: 0.3355 - accuracy: 0.8611\n"
          ],
          "name": "stdout"
        },
        {
          "output_type": "execute_result",
          "data": {
            "text/plain": [
              "<tensorflow.python.keras.callbacks.History at 0x7fae63854b38>"
            ]
          },
          "metadata": {
            "tags": []
          },
          "execution_count": 27
        }
      ]
    },
    {
      "cell_type": "code",
      "metadata": {
        "colab": {
          "base_uri": "https://localhost:8080/"
        },
        "id": "Cqk87nnTKLZu",
        "outputId": "9b093da7-a8c3-4cb7-aadf-a7c3b120ebbc"
      },
      "source": [
        "test_loss, test_acc = ann.evaluate(X_test, y_test)"
      ],
      "execution_count": 29,
      "outputs": [
        {
          "output_type": "stream",
          "text": [
            "63/63 [==============================] - 0s 818us/step - loss: 0.3374 - accuracy: 0.8550\n"
          ],
          "name": "stdout"
        }
      ]
    },
    {
      "cell_type": "markdown",
      "metadata": {
        "id": "tJj5k2MxZga3"
      },
      "source": [
        "## Part 4 - Making the predictions and evaluating the model"
      ]
    },
    {
      "cell_type": "markdown",
      "metadata": {
        "id": "84QFoqGYeXHL"
      },
      "source": [
        "### Predicting the result of a single observation"
      ]
    },
    {
      "cell_type": "markdown",
      "metadata": {
        "id": "CGRo3eacgDdC"
      },
      "source": [
        "**Homework**\n",
        "\n",
        "Use our ANN model to predict if the customer with the following informations will leave the bank: \n",
        "\n",
        "Geography: France\n",
        "\n",
        "Credit Score: 600\n",
        "\n",
        "Gender: Male\n",
        "\n",
        "Age: 40 years old\n",
        "\n",
        "Tenure: 3 years\n",
        "\n",
        "Balance: \\$ 60000\n",
        "\n",
        "Number of Products: 2\n",
        "\n",
        "Does this customer have a credit card ? Yes\n",
        "\n",
        "Is this customer an Active Member: Yes\n",
        "\n",
        "Estimated Salary: \\$ 50000\n",
        "\n",
        "So, should we say goodbye to that customer ?"
      ]
    },
    {
      "cell_type": "markdown",
      "metadata": {
        "id": "ZhU1LTgPg-kH"
      },
      "source": [
        "**Solution**"
      ]
    },
    {
      "cell_type": "code",
      "metadata": {
        "id": "xItHmozuLJvV"
      },
      "source": [
        ""
      ],
      "execution_count": null,
      "outputs": []
    },
    {
      "cell_type": "markdown",
      "metadata": {
        "id": "wGjx94g2n7OV"
      },
      "source": [
        "Therefore, our ANN model predicts that this customer stays in the bank!\n",
        "\n",
        "**Important note 1:** Notice that the values of the features were all input in a double pair of square brackets. That's because the \"predict\" method always expects a 2D array as the format of its inputs. And putting our values into a double pair of square brackets makes the input exactly a 2D array.\n",
        "\n",
        "**Important note 2:** Notice also that the \"France\" country was not input as a string in the last column but as \"1, 0, 0\" in the first three columns. That's because of course the predict method expects the one-hot-encoded values of the state, and as we see in the first row of the matrix of features X, \"France\" was encoded as \"1, 0, 0\". And be careful to include these values in the first three columns, because the dummy variables are always created in the first columns."
      ]
    },
    {
      "cell_type": "markdown",
      "metadata": {
        "id": "u7yx47jPZt11"
      },
      "source": [
        "### Predicting the Test set results"
      ]
    },
    {
      "cell_type": "markdown",
      "metadata": {
        "id": "o0oyfLWoaEGw"
      },
      "source": [
        "### Making the Confusion Matrix"
      ]
    }
  ]
}